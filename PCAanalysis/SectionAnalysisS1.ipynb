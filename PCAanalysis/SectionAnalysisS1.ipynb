{
 "cells": [
  {
   "cell_type": "markdown",
   "id": "186cf5f1",
   "metadata": {},
   "source": [
    "# Section Analysis of Patient S1"
   ]
  },
  {
   "cell_type": "markdown",
   "id": "2bcd6482",
   "metadata": {},
   "source": [
    "Import Necessary Packages/Libraries."
   ]
  },
  {
   "cell_type": "code",
   "execution_count": 3,
   "id": "339f9d4a",
   "metadata": {},
   "outputs": [],
   "source": [
    "import pandas as pd\n",
    "import seaborn as sns\n",
    "import matplotlib.pyplot as plt\n",
    "from sklearn.decomposition import PCA"
   ]
  },
  {
   "cell_type": "markdown",
   "id": "8e41e354",
   "metadata": {},
   "source": [
    "### Functions to process data"
   ]
  },
  {
   "cell_type": "markdown",
   "id": "452797ed",
   "metadata": {},
   "source": [
    "create_rdr_baf(self) is a function that selects the columns of interest for RDR and BAF by concatenating the chromosome, start, and end numbers into a single column and pivoting the data from long to wide. After the RDR and BAF are pivoted individually, they are inner-merged to create a new dataframe. This allows for easier analysis as the cell sequence is identified as the index with RDR and BAF inputs for the columns."
   ]
  },
  {
   "cell_type": "code",
   "execution_count": 4,
   "id": "0fc61999",
   "metadata": {},
   "outputs": [],
   "source": [
    "def create_rdr_baf(self):\n",
    "    print(self['CELL'].unique().shape[0])\n",
    "    crdr = self[['#CHR', 'START', 'END', 'CELL', 'RDR']] #Selects columns of interest for RDR\n",
    "    \n",
    "    #pd.set_option('mode.chained_assignment', None) #Removes SettingwithCopyWarning \n",
    "\n",
    "    crdr['#CHR']= crdr['#CHR'].astype(str) \n",
    "    crdr['START']= crdr['START'].astype(str)\n",
    "    crdr['END']= crdr['END'].astype(str)\n",
    "\n",
    "    crdr[\"chr_start_end\"]= crdr['#CHR'] + '_' + crdr[\"START\"]+ '_' + crdr['END']  #Concatenates columns\n",
    "\n",
    "    crdr = crdr.pivot(index='CELL', columns='chr_start_end', values='RDR')   #Pivots data from long to wide\n",
    "    #print(crdr.shape)\n",
    "    baf = self[['#CHR', 'START', 'END', 'CELL', 'BAF']] #Selects columns of interest for BAF\n",
    "\n",
    "    pd.set_option('mode.chained_assignment', None) #Removes SettingwithCopyWarning \n",
    "\n",
    "    baf['#CHR']= baf['#CHR'].astype(str) \n",
    "    baf['START']= baf['START'].astype(str)\n",
    "    baf['END']= baf['END'].astype(str)\n",
    "\n",
    "    baf[\"chr_start_end\"]= baf['#CHR'] + '_' + baf[\"START\"]+ '_' + baf['END']  #Concatenates columns\n",
    "\n",
    "    baf = baf.pivot(index='CELL', columns='chr_start_end', values='BAF')   #Pivots data from long to wide\n",
    "    #print(baf.shape)\n",
    "    x = crdr.merge(baf, how='inner', on='CELL')  #Concatenates columns\n",
    "    #print(x.shape)\n",
    "    return x"
   ]
  },
  {
   "cell_type": "markdown",
   "id": "e87ffd8c",
   "metadata": {},
   "source": [
    "pca_df(df) is a function that performs the task of dimensionality reduction, specifically into 2 dimensions, creating a new dataframe with 'pca1' and 'pca2' columns. This is a significant step that allows for better analysis of the data."
   ]
  },
  {
   "cell_type": "code",
   "execution_count": 5,
   "id": "917e6372",
   "metadata": {},
   "outputs": [],
   "source": [
    "def pca_df(df):\n",
    "    pca = PCA(n_components=2)\n",
    "    #X = df.drop('CELL', axis=1)\n",
    "    \n",
    "    principalComponents = pca.fit_transform(df)\n",
    "    principalDf = pd.DataFrame(data = principalComponents\n",
    "             , columns = ['pca1', 'pca2'])\n",
    "    return principalDf"
   ]
  },
  {
   "cell_type": "markdown",
   "id": "6dbf2d01",
   "metadata": {},
   "source": [
    "### Read in process data"
   ]
  },
  {
   "cell_type": "markdown",
   "id": "cf2df3a2",
   "metadata": {},
   "source": [
    "Read all the files from PatientS1 into a dictionary."
   ]
  },
  {
   "cell_type": "code",
   "execution_count": 6,
   "id": "549a44ab",
   "metadata": {
    "scrolled": false
   },
   "outputs": [],
   "source": [
    "datA1 = pd.read_csv(\"patientS1/calls/sectionA1/calls.tsv.gz\", sep=\"\\t\", compression=\"gzip\" )\n",
    "datA2 = pd.read_csv(\"patientS1/calls/sectionA2/calls.tsv.gz\", sep=\"\\t\", compression=\"gzip\" )\n",
    "datA3 = pd.read_csv(\"patientS1/calls/sectionA3/calls.tsv.gz\", sep=\"\\t\", compression=\"gzip\" )\n",
    "datB1 = pd.read_csv(\"patientS1/calls/sectionB1/calls.tsv.gz\", sep=\"\\t\", compression=\"gzip\" )\n",
    "datB2 = pd.read_csv(\"patientS1/calls/sectionB2/calls.tsv.gz\", sep=\"\\t\", compression=\"gzip\" )\n",
    "datas = {'A1': datA1, 'A2': datA2,'A3': datA3,'B1': datB1,'B2': datB2}"
   ]
  },
  {
   "cell_type": "markdown",
   "id": "5f0c79b5",
   "metadata": {},
   "source": [
    "Preprocess the data by transforming the data from wide to long with a column for each RDR and BAF and a row for a each cell, implementing the create_rdr_baf(self) function. Use \"SECTION-BARCODE\" as the index. Drop the unnecessary columns with NA values."
   ]
  },
  {
   "cell_type": "code",
   "execution_count": 7,
   "id": "ab236589",
   "metadata": {},
   "outputs": [
    {
     "name": "stdout",
     "output_type": "stream",
     "text": [
      "1311\n"
     ]
    },
    {
     "name": "stderr",
     "output_type": "stream",
     "text": [
      "<ipython-input-4-b07fe3fa30ac>:7: SettingWithCopyWarning: \n",
      "A value is trying to be set on a copy of a slice from a DataFrame.\n",
      "Try using .loc[row_indexer,col_indexer] = value instead\n",
      "\n",
      "See the caveats in the documentation: https://pandas.pydata.org/pandas-docs/stable/user_guide/indexing.html#returning-a-view-versus-a-copy\n",
      "  crdr['#CHR']= crdr['#CHR'].astype(str)\n",
      "<ipython-input-4-b07fe3fa30ac>:8: SettingWithCopyWarning: \n",
      "A value is trying to be set on a copy of a slice from a DataFrame.\n",
      "Try using .loc[row_indexer,col_indexer] = value instead\n",
      "\n",
      "See the caveats in the documentation: https://pandas.pydata.org/pandas-docs/stable/user_guide/indexing.html#returning-a-view-versus-a-copy\n",
      "  crdr['START']= crdr['START'].astype(str)\n",
      "<ipython-input-4-b07fe3fa30ac>:9: SettingWithCopyWarning: \n",
      "A value is trying to be set on a copy of a slice from a DataFrame.\n",
      "Try using .loc[row_indexer,col_indexer] = value instead\n",
      "\n",
      "See the caveats in the documentation: https://pandas.pydata.org/pandas-docs/stable/user_guide/indexing.html#returning-a-view-versus-a-copy\n",
      "  crdr['END']= crdr['END'].astype(str)\n",
      "<ipython-input-4-b07fe3fa30ac>:11: SettingWithCopyWarning: \n",
      "A value is trying to be set on a copy of a slice from a DataFrame.\n",
      "Try using .loc[row_indexer,col_indexer] = value instead\n",
      "\n",
      "See the caveats in the documentation: https://pandas.pydata.org/pandas-docs/stable/user_guide/indexing.html#returning-a-view-versus-a-copy\n",
      "  crdr[\"chr_start_end\"]= crdr['#CHR'] + '_' + crdr[\"START\"]+ '_' + crdr['END']  #Concatenates columns\n"
     ]
    },
    {
     "name": "stdout",
     "output_type": "stream",
     "text": [
      "1233\n",
      "1311\n",
      "1019\n",
      "1153\n",
      "total cells:6027\n"
     ]
    }
   ],
   "source": [
    "final = []\n",
    "total = 0\n",
    "for d in datas:\n",
    "    x = create_rdr_baf(datas[d])\n",
    "    cell_id = d + \"-\" + datas[d]['CELL'].unique() \n",
    "    total += cell_id.shape[0]\n",
    "    x = x.reset_index()\n",
    "    x = x.drop(columns=['CELL'])\n",
    "    x['CELL'] = cell_id\n",
    "    x = x.set_index(\"CELL\")\n",
    "    final.append(x)               \n",
    "print(\"total cells:\" + str(total))\n",
    "result = pd.concat(final)\n",
    "result = result.drop(columns=['15_15000000_20000000_x', '15_15000000_20000000_y'])"
   ]
  },
  {
   "cell_type": "markdown",
   "id": "13351d07",
   "metadata": {},
   "source": [
    "Reduce the dimensionality of the data using PCA into 2 dimensions and create columns that indicate the section and barcode from the index."
   ]
  },
  {
   "cell_type": "code",
   "execution_count": 8,
   "id": "5615f504",
   "metadata": {},
   "outputs": [],
   "source": [
    "pca_result = pca_df(result)\n",
    "pca_result.shape\n",
    "pca_result['CELL'] = result.index\n",
    "pca_result['ID'] = result.index\n",
    "pca_result= pca_result.set_index(\"CELL\")\n",
    "pca_result[['SECTION','BARCODE']] = pca_result['ID'].str.split('-',expand=True)"
   ]
  },
  {
   "cell_type": "markdown",
   "id": "a05aec17",
   "metadata": {},
   "source": [
    "### Visualization of Section Analysis"
   ]
  },
  {
   "cell_type": "markdown",
   "id": "dbd1b2d6",
   "metadata": {},
   "source": [
    "Generate a scatterplot using the section as the color for each point."
   ]
  },
  {
   "cell_type": "code",
   "execution_count": 9,
   "id": "7c7f65a8",
   "metadata": {
    "scrolled": true
   },
   "outputs": [
    {
     "data": {
      "text/plain": [
       "<seaborn.axisgrid.FacetGrid at 0x7f99e9276340>"
      ]
     },
     "execution_count": 9,
     "metadata": {},
     "output_type": "execute_result"
    },
    {
     "data": {
      "image/png": "[encoded data removed]",
      "text/plain": [
       "<Figure size 411.5x360 with 1 Axes>"
      ]
     },
     "metadata": {
      "needs_background": "light"
     },
     "output_type": "display_data"
    }
   ],
   "source": [
    "sns.relplot(x = 'pca1', y = 'pca2', hue='SECTION', data=pca_result).set(title='Patient S1 scDNA-seq Data')\n"
   ]
  }
 ],
 "metadata": {
  "kernelspec": {
   "display_name": "Python 3",
   "language": "python",
   "name": "python3"
  },
  "language_info": {
   "codemirror_mode": {
    "name": "ipython",
    "version": 3
   },
   "file_extension": ".py",
   "mimetype": "text/x-python",
   "name": "python",
   "nbconvert_exporter": "python",
   "pygments_lexer": "ipython3",
   "version": "3.8.8"
  }
 },
 "nbformat": 4,
 "nbformat_minor": 5
}
